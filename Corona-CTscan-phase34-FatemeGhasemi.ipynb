{
  "nbformat": 4,
  "nbformat_minor": 0,
  "metadata": {
    "colab": {
      "name": "Copy of corona_CTscan_phase2.1_FatemeGhasemi.ipynb",
      "provenance": [],
      "collapsed_sections": [],
      "toc_visible": true
    },
    "kernelspec": {
      "name": "python3",
      "display_name": "Python 3"
    },
    "language_info": {
      "name": "python"
    },
    "accelerator": "GPU"
  },
  "cells": [
    {
      "cell_type": "markdown",
      "metadata": {
        "id": "hvKaly25TxLO"
      },
      "source": [
        "## Import Libraries"
      ]
    },
    {
      "cell_type": "code",
      "metadata": {
        "id": "fzKRgDTrnV8a"
      },
      "source": [
        "from IPython.display import clear_output"
      ],
      "execution_count": null,
      "outputs": []
    },
    {
      "cell_type": "code",
      "metadata": {
        "colab": {
          "resources": {
            "http://localhost:8080/nbextensions/google.colab/files.js": {
              "data": "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",
              "ok": true,
              "headers": [
                [
                  "content-type",
                  "application/javascript"
                ]
              ],
              "status": 200,
              "status_text": ""
            }
          },
          "base_uri": "https://localhost:8080/",
          "height": 1000
        },
        "id": "fM6OvmgnZeiw",
        "outputId": "180480c2-cfcd-4e47-8033-a30ffc82f065"
      },
      "source": [
        "# @title Download Kaggle Dataset\n",
        "! pip install -q kaggle\n",
        "from google.colab import files\n",
        "files.upload()\n",
        "! mkdir ~/.kaggle\n",
        "! cp kaggle.json ~/.kaggle/\n",
        "! chmod 600 ~/.kaggle/kaggle.json\n",
        "! kaggle datasets download -d maedemaftouni/large-covid19-ct-slice-dataset\n",
        "! unzip large-covid19-ct-slice-dataset.zip\n",
        "\n",
        "clear_output()\n",
        "print('Done!')"
      ],
      "execution_count": null,
      "outputs": [
        {
          "output_type": "stream",
          "text": [
            "Done!\n"
          ],
          "name": "stdout"
        }
      ]
    },
    {
      "cell_type": "code",
      "metadata": {
        "colab": {
          "base_uri": "https://localhost:8080/"
        },
        "id": "gEvcRVW2mGWa",
        "outputId": "24c57832-03d2-45ef-da1d-b33e3367728b"
      },
      "source": [
        "# @title Download Test Dataset\n",
        "! gdown https://drive.google.com/u/0/uc?id=12e_9ykIRtwd5p8cJrPuHJeBoFdLSIyss&export=download\n",
        "! unzip clinical_dataset.zip\n",
        "\n",
        "clear_output()\n",
        "print('Done!')"
      ],
      "execution_count": null,
      "outputs": [
        {
          "output_type": "stream",
          "text": [
            "Done!\n"
          ],
          "name": "stdout"
        }
      ]
    },
    {
      "cell_type": "code",
      "metadata": {
        "colab": {
          "base_uri": "https://localhost:8080/"
        },
        "id": "XKoK4rP1fqdf",
        "outputId": "e60b9694-557b-4f42-b2ee-bc27dc087999"
      },
      "source": [
        "#@title Get Dataset\n",
        "\n",
        "# !git clone https://github.com/UCSD-AI4H/COVID-CT\n",
        "# !unzip /content/COVID-CT/Images-processed/CT_COVID.zip -d /content\n",
        "# !unzip /content/COVID-CT/Images-processed/CT_NonCOVID.zip -d /content\n",
        "\n",
        "clear_output()\n",
        "print('Done!')"
      ],
      "execution_count": null,
      "outputs": [
        {
          "output_type": "stream",
          "text": [
            "Done!\n"
          ],
          "name": "stdout"
        }
      ]
    },
    {
      "cell_type": "code",
      "metadata": {
        "id": "x4xLg_p0oVH5",
        "colab": {
          "base_uri": "https://localhost:8080/"
        },
        "outputId": "6a00ce16-ef08-482b-fc48-35a83b00ff95"
      },
      "source": [
        "import numpy as np # linear algebra\n",
        "import random\n",
        "import pandas as pd # data processing, CSV file I/O (e.g. pd.read_csv)\n",
        "import os\n",
        "import tensorflow as tf\n",
        "\n",
        "from tensorflow.keras.models import Sequential\n",
        "from tensorflow.keras.layers import Dense, Conv2D, Flatten, Dropout, MaxPooling2D\n",
        "from tensorflow.keras.preprocessing.image import ImageDataGenerator\n",
        "from keras import optimizers\n",
        "from keras.layers import Input, Lambda, Dense, Flatten, Dropout\n",
        "from keras.models import Model\n",
        "from keras.applications.vgg16 import VGG16\n",
        "from keras.applications.vgg16 import preprocess_input\n",
        "from keras.preprocessing import image\n",
        "from keras.preprocessing.image import ImageDataGenerator\n",
        "\n",
        "import cv2\n",
        "import shutil\n",
        "from glob import glob\n",
        "# Helper libraries\n",
        "import matplotlib.pyplot as plt\n",
        "import math\n",
        "\n",
        "import os\n",
        "os.environ['KERAS_BACKEND'] = 'theano'\n",
        "os.environ['KMP_DUPLICATE_LIB_OK']='True'\n",
        "import keras as ks\n",
        "\n",
        "clear_output()\n",
        "print('Done!')"
      ],
      "execution_count": null,
      "outputs": [
        {
          "output_type": "stream",
          "text": [
            "Done!\n"
          ],
          "name": "stdout"
        }
      ]
    },
    {
      "cell_type": "code",
      "metadata": {
        "colab": {
          "base_uri": "https://localhost:8080/"
        },
        "id": "wHblpNHgcMtP",
        "outputId": "3a4c76dd-9d4b-45af-b295-82a71803d548"
      },
      "source": [
        "# @title Count files by extension in folders\n",
        "! ls /content/clinical_dataset/covid/2 -q -U | awk -F . '{print $NF}' | sort | uniq -c | awk '{print $2,$1}'\n",
        "# ! ls /content/curated_data/curated_data/2COVID -q -U | awk -F . '{print $NF}' | sort | uniq -c | awk '{print $2,$1}'"
      ],
      "execution_count": null,
      "outputs": [
        {
          "output_type": "stream",
          "text": [
            "dcm 307\n"
          ],
          "name": "stdout"
        }
      ]
    },
    {
      "cell_type": "markdown",
      "metadata": {
        "id": "9TiCV2yOTpYG"
      },
      "source": [
        "## Test Dataset"
      ]
    },
    {
      "cell_type": "code",
      "metadata": {
        "colab": {
          "base_uri": "https://localhost:8080/"
        },
        "id": "5XpHczkHpbFB",
        "outputId": "fa39b4a0-fa26-41c5-8bc1-150d3ce29312"
      },
      "source": [
        "# @title Find Corrupted .dcm File\n",
        "\n",
        "import pydicom\n",
        "import os\n",
        "\n",
        "dcm_path = glob(os.path.join('/content/clinical_dataset/', '*/*', '*.dcm'))\n",
        "\n",
        "for p in dcm_path:\n",
        "  try:\n",
        "    pydicom.dcmread(p).pixel_array.shape\n",
        "  except Exception as e:\n",
        "    print(p)\n",
        "    os.remove(p)"
      ],
      "execution_count": null,
      "outputs": [
        {
          "output_type": "stream",
          "text": [
            "/content/clinical_dataset/covid/5/1.3.12.2.1107.5.1.4.78983.30000020082519424362500020394.dcm\n",
            "/content/clinical_dataset/covid/3/1.3.12.2.1107.5.1.4.78983.30000020082216044140600015227.dcm\n",
            "/content/clinical_dataset/chest_normal/4/1.3.12.2.1107.5.1.4.78983.30000020082216044140600005890.dcm\n",
            "/content/clinical_dataset/chest_normal/2/1.3.12.2.1107.5.1.4.78983.30000020102708381514000018901.dcm\n",
            "/content/clinical_dataset/chest_normal/6/1.3.12.2.1107.5.1.4.78983.30000020102708381514000015272.dcm\n",
            "/content/clinical_dataset/chest_normal/8/1.3.12.2.1107.5.1.4.78983.30000020082519424362500009120.dcm\n"
          ],
          "name": "stdout"
        }
      ]
    },
    {
      "cell_type": "code",
      "metadata": {
        "id": "sz3rXDjPuXnU"
      },
      "source": [
        "pydicom.dcmread('/content/clinical_dataset/covid/2/1.3.12.2.1107.5.1.4.78983.30000020082216044140600013944.dcm')"
      ],
      "execution_count": null,
      "outputs": []
    },
    {
      "cell_type": "code",
      "metadata": {
        "id": "A0EjnrKFVPmA"
      },
      "source": [
        "! pip install med2image\n",
        "\n",
        "clear_output()"
      ],
      "execution_count": null,
      "outputs": []
    },
    {
      "cell_type": "code",
      "metadata": {
        "id": "7vlfl7TfX2jz",
        "colab": {
          "base_uri": "https://localhost:8080/"
        },
        "outputId": "64c514a7-0405-455c-c45e-fa497e549034"
      },
      "source": [
        "%cd /content\n",
        "! printf \"%s\\n\" */* | sort -k1,1 -t/ -u\n"
      ],
      "execution_count": null,
      "outputs": [
        {
          "output_type": "stream",
          "text": [
            "/content\n",
            "clinical_dataset/chest_normal\n",
            "COVID-CT/baseline methods\n",
            "curated_data/curated_data\n",
            "sample_data/anscombe.json\n"
          ],
          "name": "stdout"
        }
      ]
    },
    {
      "cell_type": "code",
      "metadata": {
        "id": "JF0k0n6CCC0m"
      },
      "source": [
        "! find . -name \"*.pdf\" -type f -delete"
      ],
      "execution_count": null,
      "outputs": []
    },
    {
      "cell_type": "code",
      "metadata": {
        "id": "2nqVnStXVVlU",
        "colab": {
          "base_uri": "https://localhost:8080/"
        },
        "outputId": "c7691067-9c4f-4969-8fe1-52785df9cfa1"
      },
      "source": [
        "! rm -rf clinic_test\n",
        " \n",
        "! mkdir -p /content/clinic_test/CT_NonCOVID/1/CT_COVID /content/clinic_test/CT_NonCOVID/1/CT_NonCOVID\n",
        "! med2image -i /content/clinical_dataset/chest_normal/1/1.3.12.2.1107.5.1.4.78983.30000020101907235865600063648.dcm -d /content/clinic_test/CT_NonCOVID/1/CT_NonCOVID\n",
        "! mkdir -p /content/clinic_test/CT_NonCOVID/10/CT_COVID /content/clinic_test/CT_NonCOVID/10/CT_NonCOVID\n",
        "! med2image -i /content/clinical_dataset/chest_normal/10/1.3.12.2.1107.5.1.4.78983.30000020102708381514000032296.dcm -d clinic_test/CT_NonCOVID/10/CT_NonCOVID\n",
        "! mkdir -p /content/clinic_test/CT_NonCOVID/2/CT_COVID /content/clinic_test/CT_NonCOVID/2/CT_NonCOVID\n",
        "! med2image -i /content/clinical_dataset/chest_normal/2/1.3.12.2.1107.5.1.4.78983.30000020102708381514000018706.dcm -d clinic_test/CT_NonCOVID/2/CT_NonCOVID\n",
        "! mkdir -p /content/clinic_test/CT_NonCOVID/3/CT_COVID /content/clinic_test/CT_NonCOVID/3/CT_NonCOVID\n",
        "! med2image -i /content/clinical_dataset/chest_normal/3/1.3.12.2.1107.5.1.4.78983.30000020102708381514000026966.dcm -d clinic_test/CT_NonCOVID/3/CT_NonCOVID\n",
        "! mkdir -p /content/clinic_test/CT_NonCOVID/4/CT_COVID /content/clinic_test/CT_NonCOVID/4/CT_NonCOVID\n",
        "! med2image -i /content/clinical_dataset/chest_normal/4/1.3.12.2.1107.5.1.4.78983.30000020082216044140600005787.dcm -d clinic_test/CT_NonCOVID/4/CT_NonCOVID\n",
        "! mkdir -p /content/clinic_test/CT_NonCOVID/5/CT_COVID /content/clinic_test/CT_NonCOVID/5/CT_NonCOVID\n",
        "! med2image -i /content/clinical_dataset/chest_normal/5/1.3.12.2.1107.5.1.4.78983.30000020102708381514000032359.dcm -d clinic_test/CT_NonCOVID/5/CT_NonCOVID\n",
        "! mkdir -p /content/clinic_test/CT_NonCOVID/6/CT_COVID /content/clinic_test/CT_NonCOVID/6/CT_NonCOVID\n",
        "! med2image -i /content/clinical_dataset/chest_normal/6/1.3.12.2.1107.5.1.4.78983.30000020102708381514000015176.dcm -d clinic_test/CT_NonCOVID/6/CT_NonCOVID\n",
        "! mkdir -p /content/clinic_test/CT_NonCOVID/7/CT_COVID /content/clinic_test/CT_NonCOVID/7/CT_NonCOVID\n",
        "! med2image -i /content/clinical_dataset/chest_normal/7/1.3.12.2.1107.5.1.4.78983.30000020101907235865600080823.dcm -d clinic_test/CT_NonCOVID/7/CT_NonCOVID\n",
        "! mkdir -p /content/clinic_test/CT_NonCOVID/8/CT_COVID /content/clinic_test/CT_NonCOVID/8/CT_NonCOVID\n",
        "! med2image -i /content/clinical_dataset/chest_normal/8/1.3.12.2.1107.5.1.4.78983.30000020082519424362500009053.dcm -d clinic_test/CT_NonCOVID/8/CT_NonCOVID\n",
        "! mkdir -p /content/clinic_test/CT_NonCOVID/9/CT_COVID /content/clinic_test/CT_NonCOVID/9/CT_NonCOVID\n",
        "! med2image -i /content/clinical_dataset/chest_normal/9/1.3.12.2.1107.5.1.4.78983.30000020082519424362500022781.dcm -d clinic_test/CT_NonCOVID/9/CT_NonCOVID\n",
        " \n",
        "! mkdir -p /content/clinic_test/CT_COVID/1/CT_COVID /content/clinic_test/CT_COVID/1/CT_NonCOVID\n",
        "! med2image -i /content/clinical_dataset/covid/1/1.3.12.2.1107.5.1.4.78983.30000020101907235865600060396.dcm -d clinic_test/CT_COVID/1/CT_COVID\n",
        "! mkdir -p /content/clinic_test/CT_COVID/10/CT_COVID /content/clinic_test/CT_COVID/10/CT_NonCOVID\n",
        "! med2image -i /content/clinical_dataset/covid/10/1.3.12.2.1107.5.1.4.78983.30000020102708381514000023014.dcm -d clinic_test/CT_COVID/10/CT_COVID\n",
        "! mkdir -p /content/clinic_test/CT_COVID/2/CT_COVID /content/clinic_test/CT_COVID/2/CT_NonCOVID\n",
        "! med2image -i /content/clinical_dataset/covid/2/1.3.12.2.1107.5.1.4.78983.30000020082216044140600013865.dcm -d clinic_test/CT_COVID/2/CT_COVID\n",
        "! mkdir -p /content/clinic_test/CT_COVID/3/CT_COVID /content/clinic_test/CT_COVID/3/CT_NonCOVID\n",
        "! med2image -i /content/clinical_dataset/covid/3/1.3.12.2.1107.5.1.4.78983.30000020082216054245300042381.dcm -d clinic_test/CT_COVID/3/CT_COVID\n",
        "! mkdir -p /content/clinic_test/CT_COVID/4/CT_COVID /content/clinic_test/CT_COVID/4/CT_NonCOVID\n",
        "! med2image -i /content/clinical_dataset/covid/4/1.3.12.2.1107.5.1.4.78983.30000020082519424362500022301.dcm -d clinic_test/CT_COVID/4/CT_COVID\n",
        "! mkdir -p /content/clinic_test/CT_COVID/5/CT_COVID /content/clinic_test/CT_COVID/5/CT_NonCOVID\n",
        "! med2image -i /content/clinical_dataset/covid/5/1.3.12.2.1107.5.1.4.78983.30000020082519424362500020327.dcm -d clinic_test/CT_COVID/5/CT_COVID\n",
        "! mkdir -p /content/clinic_test/CT_COVID/6/CT_COVID /content/clinic_test/CT_COVID/6/CT_NonCOVID\n",
        "! med2image -i /content/clinical_dataset/covid/6/1.3.12.2.1107.5.1.4.78983.30000020101907235865600064123.dcm -d clinic_test/CT_COVID/6/CT_COVID\n",
        "! mkdir -p /content/clinic_test/CT_COVID/7/CT_COVID /content/clinic_test/CT_COVID/7/CT_NonCOVID\n",
        "! med2image -i /content/clinical_dataset/covid/7/1.3.12.2.1107.5.1.4.78983.30000020101907235865600059792.dcm -d clinic_test/CT_COVID/7/CT_COVID\n",
        "! mkdir -p /content/clinic_test/CT_COVID/8/CT_COVID /content/clinic_test/CT_COVID/8/CT_NonCOVID\n",
        "! med2image -i /content/clinical_dataset/covid/8/1.3.12.2.1107.5.1.4.78983.30000020102708381514000024483.dcm -d clinic_test/CT_COVID/8/CT_COVID\n",
        "! mkdir -p /content/clinic_test/CT_COVID/9/CT_COVID /content/clinic_test/CT_COVID/9/CT_NonCOVID\n",
        "! med2image -i /content/clinical_dataset/covid/9/1.3.12.2.1107.5.1.4.78983.30000020101907235865600060302.dcm -d clinic_test/CT_COVID/9/CT_COVID\n",
        " \n",
        " \n",
        "clear_output()\n",
        "print('Done!')"
      ],
      "execution_count": null,
      "outputs": [
        {
          "output_type": "stream",
          "text": [
            "Done!\n"
          ],
          "name": "stdout"
        }
      ]
    },
    {
      "cell_type": "code",
      "metadata": {
        "id": "sip1RgdwrOWw",
        "colab": {
          "base_uri": "https://localhost:8080/"
        },
        "outputId": "5873fa94-3df7-461c-e28b-eb8932a39d18"
      },
      "source": [
        "! ls /content/clinic_test/CT_COVID -q -U | awk -F . '{print $NF}' | sort | uniq -c | awk '{print $2,$1}'\n",
        "! ls /content/clinic_test/CT_NonCOVID -q -U | awk -F . '{print $NF}' | sort | uniq -c | awk '{print $2,$1}'"
      ],
      "execution_count": null,
      "outputs": [
        {
          "output_type": "stream",
          "text": [
            "ls: cannot access '/content/clinic_test/CT_COVID': No such file or directory\n",
            "1 1\n"
          ],
          "name": "stdout"
        }
      ]
    },
    {
      "cell_type": "code",
      "metadata": {
        "id": "IXaE4kNQbC8Z"
      },
      "source": [
        "total_clinic_test_covid = len(os.listdir('clinic_test/CT_COVID'))\n",
        "total_clinic_test_noncovid = len(os.listdir('clinic_test/CT_NonCOVID'))"
      ],
      "execution_count": null,
      "outputs": []
    },
    {
      "cell_type": "code",
      "metadata": {
        "id": "ubAbDSBTyGr-",
        "colab": {
          "base_uri": "https://localhost:8080/",
          "height": 232
        },
        "outputId": "77bdcdaf-46cd-49c1-f5de-7cc4be5accc6"
      },
      "source": [
        "test_pos_path = '/content/clinic_test/CT_COVID'\n",
        "test_neg_path = '/content/clinic_test/CT_NonCOVID'\n",
        "\n",
        "test_pos_images_lst = glob(os.path.join(test_pos_path, \"*.jpg\"))\n",
        "test_neg_images_lst = glob(os.path.join(test_neg_path, \"*.jpg\"))\n",
        "\n",
        "image_positive = cv2.imread(os.path.join(test_pos_images_lst[0]))\n",
        "image_negative = cv2.imread(os.path.join(test_neg_images_lst[0]))\n",
        "\n",
        "fig = plt.figure(figsize=(10, 10))\n",
        "fig.add_subplot(1, 2, 1)\n",
        "plt.imshow(image_negative)\n",
        "fig.add_subplot(1,2, 2)\n",
        "plt.imshow(image_positive)\n",
        "plt.show()\n",
        "\n",
        "print(\"Image POS Shape {}\".format(image_positive.shape))\n",
        "print(\"Image NEG Shape {}\".format(image_negative.shape))"
      ],
      "execution_count": null,
      "outputs": [
        {
          "output_type": "error",
          "ename": "IndexError",
          "evalue": "ignored",
          "traceback": [
            "\u001b[0;31m---------------------------------------------------------------------------\u001b[0m",
            "\u001b[0;31mIndexError\u001b[0m                                Traceback (most recent call last)",
            "\u001b[0;32m<ipython-input-35-c2e83621be34>\u001b[0m in \u001b[0;36m<module>\u001b[0;34m()\u001b[0m\n\u001b[1;32m      5\u001b[0m \u001b[0mtest_neg_images_lst\u001b[0m \u001b[0;34m=\u001b[0m \u001b[0mglob\u001b[0m\u001b[0;34m(\u001b[0m\u001b[0mos\u001b[0m\u001b[0;34m.\u001b[0m\u001b[0mpath\u001b[0m\u001b[0;34m.\u001b[0m\u001b[0mjoin\u001b[0m\u001b[0;34m(\u001b[0m\u001b[0mtest_neg_path\u001b[0m\u001b[0;34m,\u001b[0m \u001b[0;34m\"*.jpg\"\u001b[0m\u001b[0;34m)\u001b[0m\u001b[0;34m)\u001b[0m\u001b[0;34m\u001b[0m\u001b[0;34m\u001b[0m\u001b[0m\n\u001b[1;32m      6\u001b[0m \u001b[0;34m\u001b[0m\u001b[0m\n\u001b[0;32m----> 7\u001b[0;31m \u001b[0mimage_positive\u001b[0m \u001b[0;34m=\u001b[0m \u001b[0mcv2\u001b[0m\u001b[0;34m.\u001b[0m\u001b[0mimread\u001b[0m\u001b[0;34m(\u001b[0m\u001b[0mos\u001b[0m\u001b[0;34m.\u001b[0m\u001b[0mpath\u001b[0m\u001b[0;34m.\u001b[0m\u001b[0mjoin\u001b[0m\u001b[0;34m(\u001b[0m\u001b[0mtest_pos_images_lst\u001b[0m\u001b[0;34m[\u001b[0m\u001b[0;36m0\u001b[0m\u001b[0;34m]\u001b[0m\u001b[0;34m)\u001b[0m\u001b[0;34m)\u001b[0m\u001b[0;34m\u001b[0m\u001b[0;34m\u001b[0m\u001b[0m\n\u001b[0m\u001b[1;32m      8\u001b[0m \u001b[0mimage_negative\u001b[0m \u001b[0;34m=\u001b[0m \u001b[0mcv2\u001b[0m\u001b[0;34m.\u001b[0m\u001b[0mimread\u001b[0m\u001b[0;34m(\u001b[0m\u001b[0mos\u001b[0m\u001b[0;34m.\u001b[0m\u001b[0mpath\u001b[0m\u001b[0;34m.\u001b[0m\u001b[0mjoin\u001b[0m\u001b[0;34m(\u001b[0m\u001b[0mtest_neg_images_lst\u001b[0m\u001b[0;34m[\u001b[0m\u001b[0;36m0\u001b[0m\u001b[0;34m]\u001b[0m\u001b[0;34m)\u001b[0m\u001b[0;34m)\u001b[0m\u001b[0;34m\u001b[0m\u001b[0;34m\u001b[0m\u001b[0m\n\u001b[1;32m      9\u001b[0m \u001b[0;34m\u001b[0m\u001b[0m\n",
            "\u001b[0;31mIndexError\u001b[0m: list index out of range"
          ]
        }
      ]
    },
    {
      "cell_type": "markdown",
      "metadata": {
        "id": "FIcS4P1wTtyR"
      },
      "source": [
        "## Model"
      ]
    },
    {
      "cell_type": "code",
      "metadata": {
        "id": "hr9Z5gryoU8k",
        "colab": {
          "base_uri": "https://localhost:8080/",
          "height": 373
        },
        "outputId": "83b83546-b719-4341-d04f-a163c488a10a"
      },
      "source": [
        "path_positive_cases = os.path.join('/content/curated_data/curated_data/1NonCOVID/')\n",
        "path_negative_cases = os.path.join('/content/curated_data/curated_data/2COVID/')\n",
        "\n",
        "positive_images_ls = glob(os.path.join(path_positive_cases,\"*.png\"))\n",
        "\n",
        "negative_images_ls = glob(os.path.join(path_negative_cases,\"*.png\"))\n",
        "\n",
        "covid = {'class': 'CT_COVID',\n",
        "         'path': path_positive_cases,\n",
        "         'images': positive_images_ls}\n",
        "\n",
        "non_covid = {'class': 'CT_NonCOVID',\n",
        "             'path': path_negative_cases,\n",
        "             'images': negative_images_ls}\n",
        "\n",
        "total_positive_covid = len(positive_images_ls)\n",
        "total_negative_covid = len(negative_images_ls)\n",
        "print(\"Total Positive Cases Covid19 images: {}\".format(total_positive_covid))\n",
        "print(\"Total Negative Cases Covid19 images: {}\".format(total_negative_covid))\n",
        "\n",
        "image_positive = cv2.imread(os.path.join(positive_images_ls[0]))\n",
        "image_negative = cv2.imread(os.path.join(negative_images_ls[0]))\n",
        "\n",
        "fig = plt.figure(figsize=(10, 10))\n",
        "fig.add_subplot(1, 2, 1)\n",
        "plt.imshow(image_negative)\n",
        "fig.add_subplot(1,2, 2)\n",
        "plt.imshow(image_positive)\n",
        "plt.show()\n",
        "\n",
        "print(\"Image POS Shape {}\".format(image_positive.shape))\n",
        "print(\"Image NEG Shape {}\".format(image_negative.shape))"
      ],
      "execution_count": null,
      "outputs": [
        {
          "output_type": "stream",
          "text": [
            "Total Positive Cases Covid19 images: 6893\n",
            "Total Negative Cases Covid19 images: 7593\n"
          ],
          "name": "stdout"
        },
        {
          "output_type": "display_data",
          "data": {
            "image/png": "[encoded data removed]",
            "text/plain": [
              "<Figure size 720x720 with 2 Axes>"
            ]
          },
          "metadata": {
            "tags": [],
            "needs_background": "light"
          }
        },
        {
          "output_type": "stream",
          "text": [
            "Image POS Shape (512, 512, 3)\n",
            "Image NEG Shape (512, 512, 3)\n"
          ],
          "name": "stdout"
        }
      ]
    },
    {
      "cell_type": "code",
      "metadata": {
        "id": "Sej5oxNMJYSA",
        "colab": {
          "base_uri": "https://localhost:8080/"
        },
        "outputId": "c1b7cac6-e755-4629-9a4b-45cb86174934"
      },
      "source": [
        "# Create Train-Test Directory\n",
        "subdirs  = ['train/', 'test/']\n",
        "for subdir in subdirs:\n",
        "    labeldirs = ['CT_COVID', 'CT_NonCOVID']\n",
        "    for labldir in labeldirs:\n",
        "        newdir = subdir + labldir\n",
        "        os.makedirs(newdir, exist_ok=True)\n",
        "\n",
        "# Copy Images to test set\n",
        "\n",
        "random.seed(12)\n",
        "test_ratio = 0.1\n",
        "########## yahan change\n",
        "\n",
        "for cases in [covid, non_covid]:\n",
        "    total_cases = len(cases['images'])  # number of total images\n",
        "    num_to_select = int(test_ratio * total_cases)  # number of images to copy to test set\n",
        "\n",
        "    print(cases['class'], num_to_select)\n",
        "\n",
        "    list_of_random_files = random.sample(cases['images'], num_to_select)  # random files selected\n",
        "\n",
        "    for files in list_of_random_files:\n",
        "        shutil.copy2(files, 'test/' + cases['class'])\n",
        "\n",
        "# Copy Images to train set\n",
        "for cases in [covid, non_covid]:\n",
        "    image_test_files = os.listdir('test/' + cases['class']) # list test files\n",
        "    for images in cases['images']:\n",
        "        if images.split('/')[-1] not in (image_test_files): #exclude test files from shutil.copy\n",
        "            shutil.copy2(images, 'train/' + cases['class'])\n",
        "\n",
        "\n",
        "total_train_covid = len(os.listdir('train/CT_COVID'))\n",
        "total_train_noncovid = len(os.listdir('train/CT_NonCOVID'))\n",
        "total_test_covid = len(os.listdir('test/CT_COVID'))\n",
        "total_test_noncovid = len(os.listdir('test/CT_NonCOVID'))\n",
        "\n",
        "print(\"Train sets images COVID: {}\".format(total_train_covid))\n",
        "print(\"Train sets images Non COVID: {}\".format(total_train_noncovid))\n",
        "print(\"Test sets images COVID: {}\".format(total_test_covid))\n",
        "print(\"Test sets images Non COVID: {}\".format(total_test_noncovid))\n",
        "\n"
      ],
      "execution_count": null,
      "outputs": [
        {
          "output_type": "stream",
          "text": [
            "CT_COVID 689\n",
            "CT_NonCOVID 759\n",
            "Train sets images COVID: 6204\n",
            "Train sets images Non COVID: 6834\n",
            "Test sets images COVID: 689\n",
            "Test sets images Non COVID: 759\n"
          ],
          "name": "stdout"
        }
      ]
    },
    {
      "cell_type": "code",
      "metadata": {
        "id": "yEe6lhoUJ4ip",
        "colab": {
          "base_uri": "https://localhost:8080/"
        },
        "outputId": "febd2b3e-2471-41b8-82f3-41be8baf1297"
      },
      "source": [
        "batch_size = 32\n",
        "epochs = 50\n",
        "IMG_HEIGHT = 224\n",
        "IMG_WIDTH = 224\n",
        "\n",
        "train_image_generator = ImageDataGenerator(rescale=1./255,\n",
        "                                           horizontal_flip = True) # Generator for our training data\n",
        "test_image_generator = ImageDataGenerator(rescale=1./255,\n",
        "                                          horizontal_flip = True) # Generator for our validation\n",
        "\n",
        "clinic_image_generator = ImageDataGenerator(rescale=1./255,\n",
        "                                            horizontal_flip = True)\n",
        "\n",
        "# re-size all the images to this\n",
        "IMAGE_SIZE = [224, 224]\n",
        "\n",
        "vgg = VGG16(input_shape=IMAGE_SIZE + [3], weights='imagenet', include_top=False)\n",
        "\n",
        "# don't train existing weights\n",
        "for layer in vgg.layers:\n",
        "  layer.trainable = False\n",
        "\n",
        "folders = glob('content/drive/MyDrive/CovidData/*/')\n",
        "folders\n",
        "vgg.summary()\n",
        "\n",
        "x = Flatten()(vgg.output)\n",
        "x = Dense(4096, activation='relu')(x)\n",
        "x = Dense(4096, activation='relu')(x)\n",
        "prediction = Dense(2, activation='softmax')(x)\n",
        "\n",
        "# create a model object\n",
        "model = Model(inputs=vgg.input, outputs=prediction)\n",
        "\n",
        "# view the structure of the model\n",
        "model.summary()"
      ],
      "execution_count": null,
      "outputs": [
        {
          "output_type": "stream",
          "text": [
            "Downloading data from https://storage.googleapis.com/tensorflow/keras-applications/vgg16/vgg16_weights_tf_dim_ordering_tf_kernels_notop.h5\n",
            "58892288/58889256 [==============================] - 0s 0us/step\n",
            "Model: \"vgg16\"\n",
            "_________________________________________________________________\n",
            "Layer (type)                 Output Shape              Param #   \n",
            "=================================================================\n",
            "input_1 (InputLayer)         [(None, 224, 224, 3)]     0         \n",
            "_________________________________________________________________\n",
            "block1_conv1 (Conv2D)        (None, 224, 224, 64)      1792      \n",
            "_________________________________________________________________\n",
            "block1_conv2 (Conv2D)        (None, 224, 224, 64)      36928     \n",
            "_________________________________________________________________\n",
            "block1_pool (MaxPooling2D)   (None, 112, 112, 64)      0         \n",
            "_________________________________________________________________\n",
            "block2_conv1 (Conv2D)        (None, 112, 112, 128)     73856     \n",
            "_________________________________________________________________\n",
            "block2_conv2 (Conv2D)        (None, 112, 112, 128)     147584    \n",
            "_________________________________________________________________\n",
            "block2_pool (MaxPooling2D)   (None, 56, 56, 128)       0         \n",
            "_________________________________________________________________\n",
            "block3_conv1 (Conv2D)        (None, 56, 56, 256)       295168    \n",
            "_________________________________________________________________\n",
            "block3_conv2 (Conv2D)        (None, 56, 56, 256)       590080    \n",
            "_________________________________________________________________\n",
            "block3_conv3 (Conv2D)        (None, 56, 56, 256)       590080    \n",
            "_________________________________________________________________\n",
            "block3_pool (MaxPooling2D)   (None, 28, 28, 256)       0         \n",
            "_________________________________________________________________\n",
            "block4_conv1 (Conv2D)        (None, 28, 28, 512)       1180160   \n",
            "_________________________________________________________________\n",
            "block4_conv2 (Conv2D)        (None, 28, 28, 512)       2359808   \n",
            "_________________________________________________________________\n",
            "block4_conv3 (Conv2D)        (None, 28, 28, 512)       2359808   \n",
            "_________________________________________________________________\n",
            "block4_pool (MaxPooling2D)   (None, 14, 14, 512)       0         \n",
            "_________________________________________________________________\n",
            "block5_conv1 (Conv2D)        (None, 14, 14, 512)       2359808   \n",
            "_________________________________________________________________\n",
            "block5_conv2 (Conv2D)        (None, 14, 14, 512)       2359808   \n",
            "_________________________________________________________________\n",
            "block5_conv3 (Conv2D)        (None, 14, 14, 512)       2359808   \n",
            "_________________________________________________________________\n",
            "block5_pool (MaxPooling2D)   (None, 7, 7, 512)         0         \n",
            "=================================================================\n",
            "Total params: 14,714,688\n",
            "Trainable params: 0\n",
            "Non-trainable params: 14,714,688\n",
            "_________________________________________________________________\n",
            "Model: \"model\"\n",
            "_________________________________________________________________\n",
            "Layer (type)                 Output Shape              Param #   \n",
            "=================================================================\n",
            "input_1 (InputLayer)         [(None, 224, 224, 3)]     0         \n",
            "_________________________________________________________________\n",
            "block1_conv1 (Conv2D)        (None, 224, 224, 64)      1792      \n",
            "_________________________________________________________________\n",
            "block1_conv2 (Conv2D)        (None, 224, 224, 64)      36928     \n",
            "_________________________________________________________________\n",
            "block1_pool (MaxPooling2D)   (None, 112, 112, 64)      0         \n",
            "_________________________________________________________________\n",
            "block2_conv1 (Conv2D)        (None, 112, 112, 128)     73856     \n",
            "_________________________________________________________________\n",
            "block2_conv2 (Conv2D)        (None, 112, 112, 128)     147584    \n",
            "_________________________________________________________________\n",
            "block2_pool (MaxPooling2D)   (None, 56, 56, 128)       0         \n",
            "_________________________________________________________________\n",
            "block3_conv1 (Conv2D)        (None, 56, 56, 256)       295168    \n",
            "_________________________________________________________________\n",
            "block3_conv2 (Conv2D)        (None, 56, 56, 256)       590080    \n",
            "_________________________________________________________________\n",
            "block3_conv3 (Conv2D)        (None, 56, 56, 256)       590080    \n",
            "_________________________________________________________________\n",
            "block3_pool (MaxPooling2D)   (None, 28, 28, 256)       0         \n",
            "_________________________________________________________________\n",
            "block4_conv1 (Conv2D)        (None, 28, 28, 512)       1180160   \n",
            "_________________________________________________________________\n",
            "block4_conv2 (Conv2D)        (None, 28, 28, 512)       2359808   \n",
            "_________________________________________________________________\n",
            "block4_conv3 (Conv2D)        (None, 28, 28, 512)       2359808   \n",
            "_________________________________________________________________\n",
            "block4_pool (MaxPooling2D)   (None, 14, 14, 512)       0         \n",
            "_________________________________________________________________\n",
            "block5_conv1 (Conv2D)        (None, 14, 14, 512)       2359808   \n",
            "_________________________________________________________________\n",
            "block5_conv2 (Conv2D)        (None, 14, 14, 512)       2359808   \n",
            "_________________________________________________________________\n",
            "block5_conv3 (Conv2D)        (None, 14, 14, 512)       2359808   \n",
            "_________________________________________________________________\n",
            "block5_pool (MaxPooling2D)   (None, 7, 7, 512)         0         \n",
            "_________________________________________________________________\n",
            "flatten (Flatten)            (None, 25088)             0         \n",
            "_________________________________________________________________\n",
            "dense (Dense)                (None, 4096)              102764544 \n",
            "_________________________________________________________________\n",
            "dense_1 (Dense)              (None, 4096)              16781312  \n",
            "_________________________________________________________________\n",
            "dense_2 (Dense)              (None, 2)                 8194      \n",
            "=================================================================\n",
            "Total params: 134,268,738\n",
            "Trainable params: 119,554,050\n",
            "Non-trainable params: 14,714,688\n",
            "_________________________________________________________________\n"
          ],
          "name": "stdout"
        }
      ]
    },
    {
      "cell_type": "code",
      "metadata": {
        "id": "yroM7Fx4katK",
        "colab": {
          "base_uri": "https://localhost:8080/",
          "height": 924
        },
        "outputId": "518ca987-15ff-437f-aeb7-5d5c425a0633"
      },
      "source": [
        "\n",
        "# tell the model what cost and optimization method to use\n",
        "\n",
        "model.compile(\n",
        "  loss='categorical_crossentropy',\n",
        "  optimizer='adam',\n",
        "  metrics=['accuracy']\n",
        ")\n",
        "\n",
        "train_dir = os.path.join('train')\n",
        "test_dir = os.path.join('test')\n",
        "\n",
        "clinic_dir = os.path.join('clinic_test')\n",
        "\n",
        "\n",
        "total_train = total_train_covid + total_train_noncovid\n",
        "total_test = total_test_covid + total_test_noncovid\n",
        "\n",
        "# clinic_test = total_clinic_test_covid + total_clinic_test_noncovid\n",
        "\n",
        "train_data_gen = train_image_generator.flow_from_directory(batch_size=batch_size,\n",
        "                                                           directory=train_dir,\n",
        "                                                           shuffle=True,\n",
        "                                                           target_size=(IMG_HEIGHT, IMG_WIDTH),\n",
        "                                                           class_mode='categorical')\n",
        "\n",
        "test_data_gen = test_image_generator.flow_from_directory(batch_size=batch_size,\n",
        "                                                              directory=test_dir,\n",
        "                                                              target_size=(IMG_HEIGHT, IMG_WIDTH),\n",
        "                                                              class_mode='categorical')\n",
        "\n",
        "\n",
        "# clinic_data_gen = clinic_image_generator.flow_from_directory(batch_size=batch_size,\n",
        "#                                                               directory=clinic_dir,\n",
        "#                                                               target_size=(IMG_HEIGHT, IMG_WIDTH),\n",
        "#                                                               class_mode='categorical')\n",
        "\n",
        "# fit the model\n",
        "r = model.fit(\n",
        "  train_data_gen,\n",
        "  validation_data=test_data_gen,\n",
        "  epochs=10,\n",
        "  steps_per_epoch=len(train_data_gen),\n",
        "  validation_steps=len(test_data_gen),\n",
        ")\n",
        "# loss\n",
        "plt.plot(r.history['loss'], label='train loss')\n",
        "plt.plot(r.history['val_loss'], label='val loss')\n",
        "plt.legend()\n",
        "plt.show()\n",
        "plt.savefig('LossVal_loss')\n",
        "\n",
        "# accuracies\n",
        "plt.plot(r.history['accuracy'], label='train acc')\n",
        "plt.plot(r.history['val_accuracy'], label='val acc')\n",
        "plt.legend()\n",
        "plt.show()\n",
        "plt.savefig('AccVal_acc')"
      ],
      "execution_count": null,
      "outputs": [
        {
          "output_type": "stream",
          "text": [
            "Found 13038 images belonging to 2 classes.\n",
            "Found 1448 images belonging to 2 classes.\n",
            "Epoch 1/10\n",
            "408/408 [==============================] - 125s 212ms/step - loss: 2.3488 - accuracy: 0.8171 - val_loss: 0.2612 - val_accuracy: 0.8985\n",
            "Epoch 2/10\n",
            "408/408 [==============================] - 74s 180ms/step - loss: 0.2320 - accuracy: 0.9074 - val_loss: 0.1954 - val_accuracy: 0.9282\n",
            "Epoch 3/10\n",
            "408/408 [==============================] - 73s 178ms/step - loss: 0.1819 - accuracy: 0.9312 - val_loss: 0.2820 - val_accuracy: 0.8902\n",
            "Epoch 4/10\n",
            "408/408 [==============================] - 73s 179ms/step - loss: 0.1627 - accuracy: 0.9367 - val_loss: 0.1654 - val_accuracy: 0.9378\n",
            "Epoch 5/10\n",
            "408/408 [==============================] - 72s 177ms/step - loss: 0.1375 - accuracy: 0.9450 - val_loss: 0.2094 - val_accuracy: 0.9206\n",
            "Epoch 6/10\n",
            "408/408 [==============================] - 72s 177ms/step - loss: 0.1270 - accuracy: 0.9477 - val_loss: 0.1853 - val_accuracy: 0.9289\n",
            "Epoch 7/10\n",
            "408/408 [==============================] - 73s 178ms/step - loss: 0.1039 - accuracy: 0.9584 - val_loss: 0.1417 - val_accuracy: 0.9427\n",
            "Epoch 8/10\n",
            "408/408 [==============================] - 72s 177ms/step - loss: 0.0853 - accuracy: 0.9683 - val_loss: 0.1549 - val_accuracy: 0.9399\n",
            "Epoch 9/10\n",
            "408/408 [==============================] - 72s 177ms/step - loss: 0.0899 - accuracy: 0.9645 - val_loss: 0.1096 - val_accuracy: 0.9565\n",
            "Epoch 10/10\n",
            "408/408 [==============================] - 73s 178ms/step - loss: 0.0603 - accuracy: 0.9769 - val_loss: 0.1214 - val_accuracy: 0.9599\n"
          ],
          "name": "stdout"
        },
        {
          "output_type": "display_data",
          "data": {
            "image/png": "[encoded data removed]",
            "text/plain": [
              "<Figure size 432x288 with 1 Axes>"
            ]
          },
          "metadata": {
            "tags": [],
            "needs_background": "light"
          }
        },
        {
          "output_type": "display_data",
          "data": {
            "image/png": "[encoded data removed]",
            "text/plain": [
              "<Figure size 432x288 with 1 Axes>"
            ]
          },
          "metadata": {
            "tags": [],
            "needs_background": "light"
          }
        },
        {
          "output_type": "display_data",
          "data": {
            "text/plain": [
              "<Figure size 432x288 with 0 Axes>"
            ]
          },
          "metadata": {
            "tags": []
          }
        }
      ]
    },
    {
      "cell_type": "code",
      "metadata": {
        "id": "oomLaB0xc-UZ",
        "colab": {
          "base_uri": "https://localhost:8080/"
        },
        "outputId": "7d5393b9-1c43-4a3c-d651-983edd37ce0b"
      },
      "source": [
        "for i in range(10):\n",
        "  print('Evaluating on persion %d' % (i+1))\n",
        "  clinic_data_gen_noncovid = clinic_image_generator.flow_from_directory(batch_size=batch_size,\n",
        "                                                              directory='/content/clinic_test/CT_NonCOVID/%d'%(i+1),\n",
        "                                                              target_size=(IMG_HEIGHT, IMG_WIDTH),\n",
        "                                                              class_mode='categorical')\n",
        "  model.evaluate(clinic_data_gen_noncovid, batch_size=batch_size)"
      ],
      "execution_count": null,
      "outputs": [
        {
          "output_type": "stream",
          "text": [
            "Evaluating on persion 1\n",
            "Found 316 images belonging to 2 classes.\n",
            "10/10 [==============================] - 2s 181ms/step - loss: 0.6149 - accuracy: 0.8481\n",
            "Evaluating on persion 2\n",
            "Found 797 images belonging to 2 classes.\n",
            "25/25 [==============================] - 4s 166ms/step - loss: 2.6643 - accuracy: 0.6361\n",
            "Evaluating on persion 3\n",
            "Found 243 images belonging to 2 classes.\n",
            "8/8 [==============================] - 1s 170ms/step - loss: 2.9256 - accuracy: 0.5844\n",
            "Evaluating on persion 4\n",
            "Found 296 images belonging to 2 classes.\n",
            "10/10 [==============================] - 2s 164ms/step - loss: 2.0409 - accuracy: 0.6655\n",
            "Evaluating on persion 5\n",
            "Found 306 images belonging to 2 classes.\n",
            "10/10 [==============================] - 2s 175ms/step - loss: 0.7900 - accuracy: 0.8725\n",
            "Evaluating on persion 6\n",
            "Found 298 images belonging to 2 classes.\n",
            "10/10 [==============================] - 2s 162ms/step - loss: 2.0681 - accuracy: 0.6409\n",
            "Evaluating on persion 7\n",
            "Found 306 images belonging to 2 classes.\n",
            "10/10 [==============================] - 2s 172ms/step - loss: 0.6227 - accuracy: 0.8725\n",
            "Evaluating on persion 8\n",
            "Found 334 images belonging to 2 classes.\n",
            "11/11 [==============================] - 2s 167ms/step - loss: 0.9850 - accuracy: 0.7575\n",
            "Evaluating on persion 9\n",
            "Found 306 images belonging to 2 classes.\n",
            "10/10 [==============================] - 2s 169ms/step - loss: 3.4379 - accuracy: 0.6503\n",
            "Evaluating on persion 10\n",
            "Found 315 images belonging to 2 classes.\n",
            "10/10 [==============================] - 2s 178ms/step - loss: 4.8514 - accuracy: 0.5016\n"
          ],
          "name": "stdout"
        }
      ]
    },
    {
      "cell_type": "code",
      "metadata": {
        "colab": {
          "base_uri": "https://localhost:8080/"
        },
        "id": "nScHkzecDBDV",
        "outputId": "7fec352a-4075-47ba-ca07-17f475054fb2"
      },
      "source": [
        "for i in range(10):\n",
        "  print('Evaluating on persion %d' % (i+1))\n",
        "  clinic_data_gen_covid = clinic_image_generator.flow_from_directory(batch_size=batch_size,\n",
        "                                                              directory='/content/clinic_test/CT_COVID/%d'%(i+1),\n",
        "                                                              target_size=(IMG_HEIGHT, IMG_WIDTH),\n",
        "                                                              class_mode='categorical')\n",
        "  model.evaluate(clinic_data_gen_covid, batch_size=batch_size)"
      ],
      "execution_count": null,
      "outputs": [
        {
          "output_type": "stream",
          "text": [
            "Evaluating on persion 1\n",
            "Found 348 images belonging to 2 classes.\n",
            "11/11 [==============================] - 2s 187ms/step - loss: 16.9640 - accuracy: 0.1236\n",
            "Evaluating on persion 2\n",
            "Found 306 images belonging to 2 classes.\n",
            "10/10 [==============================] - 2s 173ms/step - loss: 27.9776 - accuracy: 0.0065\n",
            "Evaluating on persion 3\n",
            "Found 306 images belonging to 2 classes.\n",
            "10/10 [==============================] - 2s 171ms/step - loss: 17.7274 - accuracy: 0.0163\n",
            "Evaluating on persion 4\n",
            "Found 306 images belonging to 2 classes.\n",
            "10/10 [==============================] - 2s 171ms/step - loss: 12.2071 - accuracy: 0.1928\n",
            "Evaluating on persion 5\n",
            "Found 334 images belonging to 2 classes.\n",
            "11/11 [==============================] - 2s 167ms/step - loss: 13.5259 - accuracy: 0.1677\n",
            "Evaluating on persion 6\n",
            "Found 305 images belonging to 2 classes.\n",
            "10/10 [==============================] - 2s 170ms/step - loss: 16.8298 - accuracy: 0.1344\n",
            "Evaluating on persion 7\n",
            "Found 332 images belonging to 2 classes.\n",
            "11/11 [==============================] - 2s 165ms/step - loss: 12.9329 - accuracy: 0.3163\n",
            "Evaluating on persion 8\n",
            "Found 220 images belonging to 2 classes.\n",
            "7/7 [==============================] - 1s 179ms/step - loss: 23.4233 - accuracy: 0.0091\n",
            "Evaluating on persion 9\n",
            "Found 279 images belonging to 2 classes.\n",
            "9/9 [==============================] - 2s 168ms/step - loss: 14.6509 - accuracy: 0.2007\n",
            "Evaluating on persion 10\n",
            "Found 639 images belonging to 2 classes.\n",
            "20/20 [==============================] - 4s 172ms/step - loss: 14.5500 - accuracy: 0.0548\n"
          ],
          "name": "stdout"
        }
      ]
    },
    {
      "cell_type": "code",
      "metadata": {
        "id": "ORKE09rQ3ijW"
      },
      "source": [
        ""
      ],
      "execution_count": null,
      "outputs": []
    }
  ]
}